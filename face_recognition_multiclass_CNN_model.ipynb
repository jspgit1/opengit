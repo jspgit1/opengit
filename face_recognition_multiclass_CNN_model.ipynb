{
 "cells": [
  {
   "cell_type": "markdown",
   "metadata": {},
   "source": [
    "# A Multiclass Face Recognition CNN Model\n",
    "## Shengping Jiang\n",
    "This model is built upon on keras and OpenCV. It can be trained with certain image data structure. It counts classes automatically and converts class name to a binary label array. It illustrates training accuracy vs epochs.   "
   ]
  },
  {
   "cell_type": "code",
   "execution_count": 1,
   "metadata": {
    "_cell_guid": "b1076dfc-b9ad-4769-8c92-a6c4dae69d19",
    "_uuid": "8f2839f25d086af736a60e9eeb907d3b93b6e0e5"
   },
   "outputs": [
    {
     "name": "stderr",
     "output_type": "stream",
     "text": [
      "Using TensorFlow backend.\n"
     ]
    }
   ],
   "source": [
    "# This is a face recognition CNN model and training program\n",
    "# This notebook is used to traing more than two classes-2020.11.13\n",
    "# Shengping Jiang\n",
    "\n",
    "import numpy as np \n",
    "import pandas as pd \n",
    "import os\n",
    "import re\n",
    "import matplotlib.pyplot as plt\n",
    "import cv2\n",
    "import random\n",
    "from keras.utils import to_categorical\n",
    "from keras.layers import Dense,Conv2D,Flatten,MaxPool2D,Dropout\n",
    "from keras.models import Sequential\n",
    "from keras.models import load_model\n",
    "from keras.optimizers import SGD\n",
    "from sklearn.model_selection import train_test_split\n",
    "from keras import backend as K\n",
    "\n",
    "np.random.seed(1)"
   ]
  },
  {
   "cell_type": "code",
   "execution_count": 2,
   "metadata": {},
   "outputs": [],
   "source": [
    "# This function resizes an image to given height x width. \n",
    "# We prefer to resize all images to a square (height = width)\n",
    "\n",
    "def resize_image(image, height, width):\n",
    "    top, bottom, left, right = (0, 0, 0, 0)\n",
    "    \n",
    "    #获取图像尺寸\n",
    "    h, w, _ = image.shape\n",
    "    \n",
    "    #对于长宽不相等的图片，找到最长的一边\n",
    "    longest_edge = max(h, w)    \n",
    "    \n",
    "    #计算短边需要增加多上像素宽度使其与长边等长\n",
    "    if h < longest_edge:\n",
    "        dh = longest_edge - h\n",
    "        top = dh // 2\n",
    "        bottom = dh - top\n",
    "    elif w < longest_edge:\n",
    "        dw = longest_edge - w\n",
    "        left = dw // 2\n",
    "        right = dw - left\n",
    "    else:\n",
    "        pass \n",
    "    \n",
    "    #RGB颜色\n",
    "    BLACK = [0, 0, 0]\n",
    "    \n",
    "    #给图像增加边界，是图片长、宽等长，cv2.BORDER_CONSTANT指定边界颜色由value指定\n",
    "    constant = cv2.copyMakeBorder(image, top , bottom, left, right, cv2.BORDER_CONSTANT, value = BLACK)\n",
    "    \n",
    "    #调整图像大小并返回\n",
    "    return cv2.resize(constant, (height, width))"
   ]
  },
  {
   "cell_type": "markdown",
   "metadata": {},
   "source": [
    "## Image data structure\n",
    "Put image data as a folder structure below. Please note: classname or image name are not necessary with a number<br>\n",
    "\n",
    "--data<br>\n",
    "&nbsp;&nbsp;&nbsp;&nbsp;|--train<br>\n",
    "&nbsp;&nbsp;&nbsp;&nbsp;&nbsp;&nbsp;&nbsp;&nbsp;&nbsp;|--classname0<br>\n",
    "&nbsp;&nbsp;&nbsp;&nbsp;&nbsp;&nbsp;&nbsp;&nbsp;&nbsp;|--classname1<br>\n",
    "&nbsp;&nbsp;&nbsp;&nbsp;&nbsp;&nbsp;&nbsp;&nbsp;&nbsp;|--<br>\n",
    "&nbsp;&nbsp;&nbsp;&nbsp;&nbsp;&nbsp;&nbsp;&nbsp;&nbsp;|--classnameN<br>\n",
    "&nbsp;&nbsp;&nbsp;&nbsp;&nbsp;&nbsp;&nbsp;&nbsp;&nbsp;&nbsp;&nbsp;&nbsp;&nbsp;&nbsp;|--image0.jpg<br>\n",
    "&nbsp;&nbsp;&nbsp;&nbsp;&nbsp;&nbsp;&nbsp;&nbsp;&nbsp;&nbsp;&nbsp;&nbsp;&nbsp;&nbsp;|--image1.jpg<br>\n",
    "&nbsp;&nbsp;&nbsp;&nbsp;&nbsp;&nbsp;&nbsp;&nbsp;&nbsp;&nbsp;&nbsp;&nbsp;&nbsp;&nbsp;|--<br>\n",
    "&nbsp;&nbsp;&nbsp;&nbsp;&nbsp;&nbsp;&nbsp;&nbsp;&nbsp;&nbsp;&nbsp;&nbsp;&nbsp;&nbsp;|--imageM.jpg<br>\n",
    "<br>"
   ]
  },
  {
   "cell_type": "markdown",
   "metadata": {},
   "source": [
    "## The function load_data() prepares training and validation images\n",
    "* Only searches images files with a structure as above<br>\n",
    "* Reads an image as numpy format<br>\n",
    "* Resizes an image by calling resize_image()<br>\n",
    "* Adds an image to a list images. Convert the images list to numpy format images<br>\n",
    "* Normanizes image data from range 0-255 to range 0-1, and make data as float<br>\n",
    "* Extracts classname and put in a list labels<br>\n",
    "* Converts string list labels to a binary list (numpy format) as below:<br>\n",
    "caojun --> [1 0 0 0] <br>\n",
    "chenshu --> [0 1 0 0]<br>\n",
    "gujiacheng --> [0 0 1 0]<br>\n",
    "mengziyi --> [0 0 0 1]<br>\n",
    "Note: the conversion will be done in alphabet order of classname automatically. Above is an example of four classes. For more classes, the binary value will be extended <br>\n",
    "* Converts binary data from integer to float: ex. [0 0 1 0] -->[0. 0. 1. 0.]<br>\n",
    "* Creates a dictionary output by mapping a number with a classname in alphabet order as below: <br>\n",
    "{0:'caojun',1:'chenshu',2:'gujiacheng',3:'mengziyi'} <br>\n",
    "The dictionary output will be used by prediction (this is an example of four classes)<br> "
   ]
  },
  {
   "cell_type": "code",
   "execution_count": 3,
   "metadata": {},
   "outputs": [],
   "source": [
    "# Process images before loading \n",
    "extension = ['jpg','png','bmp','jpeg']\n",
    "def load_data(path_name, img_rows, img_cols): \n",
    "    images = []\n",
    "    labels = []\n",
    "    class_names = []\n",
    "    for (root,dirs,files) in os.walk(path_name):\n",
    "        #print('root:',root)\n",
    "        pattern = '^\\w+/train/'\n",
    "        if re.match(pattern, root):\n",
    "            print('root:',root)\n",
    "            #print('files:',files)\n",
    "            #label = root.split('/')[-1]\n",
    "            for img in files:\n",
    "                img = img.lower()\n",
    "                if img.split('.')[1] in extension:\n",
    "                    full_path = os.path.join(root, img)\n",
    "                    #print('full_path:',full_path)\n",
    "                    image = cv2.imread(full_path)                \n",
    "                    #print('image.shape, img_rows, img_cols:', image.shape, img_rows, img_cols)\n",
    "                    image = resize_image(image, img_rows, img_cols)\n",
    "                    #print('image.shape2:',image.shape)\n",
    "                    label = full_path.split('/')[-2]\n",
    "                    # Add image and label to images and lanels\n",
    "                    images.append(image)                \n",
    "                    labels.append(label)\n",
    "        else:   #no train folder\n",
    "            print(\"Root folder:\",root)\n",
    "            #break\n",
    "    # Converting images to numpy. Convert class name to binary value\n",
    "    images = np.array(images)\n",
    "    #像素数据浮点化及归一化(图像的各像素值归一化到0~1区间)\n",
    "    images = images.astype('float32')\n",
    "    images /= 255\n",
    "    \n",
    "    # This will get how many names in the labels (nb_classes)\n",
    "    class_names = pd.get_dummies(labels).columns\n",
    "    nb_classes = len(pd.get_dummies(labels).columns)\n",
    "    \n",
    "    # Create a name dictionary for prediction \n",
    "    output = {}\n",
    "    for i in range(len(class_names)):\n",
    "        output[i] = class_names[i]\n",
    "    # Convert class name to binary value\n",
    "    labels = pd.get_dummies(labels).values\n",
    "    # change binary values to float from integer\n",
    "    labels = labels.astype('float32')   \n",
    "    print('image size2:', len(images))\n",
    "    return images,labels, nb_classes, output\n",
    "\n"
   ]
  },
  {
   "cell_type": "code",
   "execution_count": 4,
   "metadata": {},
   "outputs": [
    {
     "name": "stdout",
     "output_type": "stream",
     "text": [
      "<class 'pandas.core.indexes.base.Index'>\n",
      "Index(['Caojun', 'Chenshu', 'Gujiacheng', 'Mengziyi', 'Shengping'], dtype='object')\n"
     ]
    }
   ],
   "source": [
    "# Example of pd.get_dummies()\n",
    "names =['Caojun','Shengping','Shengping','Gujiacheng','Mengziyi','Chenshu','Chenshu']\n",
    "bivalue = pd.get_dummies(names).columns\n",
    "print(type(bivalue))\n",
    "print(bivalue)"
   ]
  },
  {
   "cell_type": "code",
   "execution_count": 5,
   "metadata": {
    "scrolled": true
   },
   "outputs": [
    {
     "name": "stdout",
     "output_type": "stream",
     "text": [
      "Root folder: data\n",
      "Root folder: data/train\n",
      "root: data/train/mengziyi\n",
      "root: data/train/caojun\n",
      "root: data/train/chenshu\n",
      "root: data/train/gujiacheng\n",
      "image size2: 76\n"
     ]
    }
   ],
   "source": [
    "#Prepare training and validation data (准备训练与验证数据)\n",
    "train_path = 'data'\n",
    "IMAGE_SIZE = 64\n",
    "images, labels, nb_classes, output = load_data(train_path, img_rows = IMAGE_SIZE, img_cols = IMAGE_SIZE)\n",
    "# Separate images and labels to training group and validation group\n",
    "train_images, valid_images, train_labels, valid_labels \\\n",
    "             = train_test_split(images, labels, test_size = 0.2, random_state = random.randint(0, 100))        "
   ]
  },
  {
   "cell_type": "code",
   "execution_count": 6,
   "metadata": {},
   "outputs": [
    {
     "name": "stdout",
     "output_type": "stream",
     "text": [
      "train_images.shape: (60, 64, 64, 3)\n",
      "<class 'numpy.ndarray'>\n",
      "train_images[0].shape: (64, 64, 3)\n",
      "type of train_labels: <class 'numpy.ndarray'>\n",
      "type of train_labels element: <class 'numpy.ndarray'>\n",
      "nb_classes: 4\n",
      "output: {0: 'caojun', 1: 'chenshu', 2: 'gujiacheng', 3: 'mengziyi'}\n"
     ]
    }
   ],
   "source": [
    "print('train_images.shape:',train_images.shape)\n",
    "print(type(train_images))\n",
    "print(\"train_images[0].shape:\",train_images[0].shape)\n",
    "print(\"type of train_labels:\",type(train_labels))\n",
    "print(\"type of train_labels element:\",type(train_labels[0]))\n",
    "print(\"nb_classes:\",nb_classes)\n",
    "print(\"output:\",output)"
   ]
  },
  {
   "cell_type": "code",
   "execution_count": 7,
   "metadata": {},
   "outputs": [],
   "source": [
    "# Processing testing data. This cell is for processing separated test images\n",
    "# -> appending images in a list 'test_images'\n",
    "# -> appending labels in a list 'test_labels'\n",
    "# The test data contains labels as well also we are appending it to a list but we are'nt going to use it while training.\n",
    "\n",
    "#test_images = []\n",
    "#test_labels = []\n",
    "#shape = (64,64)\n",
    "#test_path = 'data/test'\n",
    "\n",
    "#for filename in os.listdir('data/test'):\n",
    "#    if filename.split('.')[1] == 'jpg':\n",
    "#        img = cv2.imread(os.path.join(test_path,filename))\n",
    "        \n",
    "        # Spliting file names and storing the labels for image in list\n",
    "#        test_labels.append(filename.split('_')[0])\n",
    "        \n",
    "        # Resize all images to a specific shape\n",
    "#        img = cv2.resize(img,shape)\n",
    "        \n",
    "#        test_images.append(img)\n",
    "        \n",
    "# Converting test_images to array\n",
    "#test_images = np.array(test_images)"
   ]
  },
  {
   "cell_type": "markdown",
   "metadata": {},
   "source": [
    "You can see the training images are distortion. This is because we resized images smmaller than original size."
   ]
  },
  {
   "cell_type": "code",
   "execution_count": 8,
   "metadata": {},
   "outputs": [
    {
     "name": "stdout",
     "output_type": "stream",
     "text": [
      "[0. 0. 0. 1.]\n"
     ]
    },
    {
     "data": {
      "text/plain": [
       "<matplotlib.image.AxesImage at 0x7f81d00540b8>"
      ]
     },
     "execution_count": 8,
     "metadata": {},
     "output_type": "execute_result"
    },
    {
     "data": {
      "image/png": "[encoded data removed]",
      "text/plain": [
       "<Figure size 432x288 with 1 Axes>"
      ]
     },
     "metadata": {
      "needs_background": "light"
     },
     "output_type": "display_data"
    }
   ],
   "source": [
    "# Visualizing Training data\n",
    "print(train_labels[1])\n",
    "plt.imshow(train_images[1])"
   ]
  },
  {
   "cell_type": "code",
   "execution_count": 9,
   "metadata": {
    "scrolled": true
   },
   "outputs": [
    {
     "name": "stdout",
     "output_type": "stream",
     "text": [
      "[0. 1. 0. 0.]\n"
     ]
    },
    {
     "data": {
      "text/plain": [
       "<matplotlib.image.AxesImage at 0x7f81bc7b6828>"
      ]
     },
     "execution_count": 9,
     "metadata": {},
     "output_type": "execute_result"
    },
    {
     "data": {
      "image/png": "[encoded data removed]",
      "text/plain": [
       "<Figure size 432x288 with 1 Axes>"
      ]
     },
     "metadata": {
      "needs_background": "light"
     },
     "output_type": "display_data"
    }
   ],
   "source": [
    "# Visualizing Training data\n",
    "print(valid_labels[15])\n",
    "plt.imshow(valid_images[15])"
   ]
  },
  {
   "cell_type": "code",
   "execution_count": 10,
   "metadata": {},
   "outputs": [],
   "source": [
    "#Build a CNN model by add convolution, MaxPool2D, Dropout, Flatten, Dense layers\n",
    "#构建一个空的网络模型，它是一个线性堆叠模型，各神经网络层会被顺序添加，专业名称为序贯模型或线性堆叠模型\n",
    "\n",
    "def model_build(inputshape, nb_classes):\n",
    "    model = Sequential() \n",
    "        \n",
    "    #以下代码将顺序添加CNN网络需要的各层，一个add就是一个网络层\n",
    "    # 1 卷积层1\n",
    "    model.add(Conv2D(filters=32, kernel_size=(3, 3), activation='relu', input_shape = inputshape, padding='same'))\n",
    "    # 2 卷积层2\n",
    "    model.add(Conv2D(filters=32, kernel_size=(3, 3), activation='relu'))                            \n",
    "    # 3 池化层1\n",
    "    model.add(MaxPool2D(pool_size=(2, 2))) \n",
    "    # 4 Dropout层1\n",
    "    model.add(Dropout(0.25)) \n",
    "    # 5 卷积层3\n",
    "    model.add(Conv2D(filters=64, kernel_size=(3, 3), activation='relu', padding='same'))\n",
    "    # 6 卷积层4\n",
    "    model.add(Conv2D(filters=64, kernel_size=(3, 3), activation='relu'))\n",
    "    # 7 池化层2\n",
    "    model.add(MaxPool2D(pool_size=(2, 2)))\n",
    "    # 8 Dropout层2\n",
    "    model.add(Dropout(0.25))\n",
    "    # 9 平化层1\n",
    "    model.add(Flatten()) \n",
    "    #10 全连接层1\n",
    "    model.add(Dense(512, activation='relu'))\n",
    "    # 11 Dropout层3\n",
    "    model.add(Dropout(0.5)) \n",
    "    # 12 全连接层2. 分类层，输出最终结果\n",
    "    model.add(Dense(nb_classes, activation = 'softmax')) \n",
    "    return model\n",
    "\n",
    "    \n",
    "def save_model(model, model_path):\n",
    "    model.save(model_path)\n",
    "\n",
    "def loadmodel(model_path):\n",
    "    model = load_model(model_path)\n",
    "    return model\n",
    " \n",
    "def evalu_model(model, valid_images, valid_labels):\n",
    "    score = model.evaluate(valid_images, valid_labels, verbose = 1)\n",
    "    print(\"%s: %.2f%%\" % (model.metrics_names[1], score[1] * 100))\n",
    " "
   ]
  },
  {
   "cell_type": "code",
   "execution_count": 32,
   "metadata": {
    "scrolled": true
   },
   "outputs": [
    {
     "name": "stdout",
     "output_type": "stream",
     "text": [
      "Train on 60 samples, validate on 16 samples\n",
      "Epoch 1/40\n",
      "60/60 [==============================] - 1s - loss: 1.4050 - acc: 0.2167 - val_loss: 1.3901 - val_acc: 0.2500\n",
      "Epoch 2/40\n",
      "60/60 [==============================] - 0s - loss: 1.3900 - acc: 0.2833 - val_loss: 1.3858 - val_acc: 0.2500\n",
      "Epoch 3/40\n",
      "60/60 [==============================] - 0s - loss: 1.3568 - acc: 0.3000 - val_loss: 1.3837 - val_acc: 0.2500\n",
      "Epoch 4/40\n",
      "60/60 [==============================] - 0s - loss: 1.3615 - acc: 0.3167 - val_loss: 1.3782 - val_acc: 0.3125\n",
      "Epoch 5/40\n",
      "60/60 [==============================] - 0s - loss: 1.3400 - acc: 0.3667 - val_loss: 1.3421 - val_acc: 0.3750\n",
      "Epoch 6/40\n",
      "60/60 [==============================] - 0s - loss: 1.2779 - acc: 0.4667 - val_loss: 1.2640 - val_acc: 0.5625\n",
      "Epoch 7/40\n",
      "60/60 [==============================] - 0s - loss: 1.2412 - acc: 0.4167 - val_loss: 1.2961 - val_acc: 0.3750\n",
      "Epoch 8/40\n",
      "60/60 [==============================] - 0s - loss: 1.1670 - acc: 0.4833 - val_loss: 1.1099 - val_acc: 0.5625\n",
      "Epoch 9/40\n",
      "60/60 [==============================] - 0s - loss: 1.1732 - acc: 0.4667 - val_loss: 1.1534 - val_acc: 0.4375\n",
      "Epoch 10/40\n",
      "60/60 [==============================] - 0s - loss: 1.0973 - acc: 0.5667 - val_loss: 1.0776 - val_acc: 0.4375\n",
      "Epoch 11/40\n",
      "60/60 [==============================] - 0s - loss: 1.0690 - acc: 0.5667 - val_loss: 1.0277 - val_acc: 0.5000\n",
      "Epoch 12/40\n",
      "60/60 [==============================] - 0s - loss: 1.0592 - acc: 0.5833 - val_loss: 1.3379 - val_acc: 0.4375\n",
      "Epoch 13/40\n",
      "60/60 [==============================] - 0s - loss: 1.2898 - acc: 0.4833 - val_loss: 1.2670 - val_acc: 0.3750\n",
      "Epoch 14/40\n",
      "60/60 [==============================] - 0s - loss: 0.9804 - acc: 0.6500 - val_loss: 1.0004 - val_acc: 0.5000\n",
      "Epoch 15/40\n",
      "60/60 [==============================] - 0s - loss: 0.6675 - acc: 0.8000 - val_loss: 0.7245 - val_acc: 0.6875\n",
      "Epoch 16/40\n",
      "60/60 [==============================] - 0s - loss: 0.7112 - acc: 0.6833 - val_loss: 0.8393 - val_acc: 0.6875\n",
      "Epoch 17/40\n",
      "60/60 [==============================] - 0s - loss: 0.5947 - acc: 0.8167 - val_loss: 0.7203 - val_acc: 0.6250\n",
      "Epoch 18/40\n",
      "60/60 [==============================] - 0s - loss: 0.5767 - acc: 0.8000 - val_loss: 1.0336 - val_acc: 0.5625\n",
      "Epoch 19/40\n",
      "60/60 [==============================] - 0s - loss: 0.5084 - acc: 0.8333 - val_loss: 0.7863 - val_acc: 0.6250\n",
      "Epoch 20/40\n",
      "60/60 [==============================] - 0s - loss: 0.3637 - acc: 0.8833 - val_loss: 1.0929 - val_acc: 0.6875\n",
      "Epoch 21/40\n",
      "60/60 [==============================] - 0s - loss: 0.5924 - acc: 0.8167 - val_loss: 1.2544 - val_acc: 0.7500\n",
      "Epoch 22/40\n",
      "60/60 [==============================] - 0s - loss: 1.1402 - acc: 0.6167 - val_loss: 1.0817 - val_acc: 0.7500\n",
      "Epoch 23/40\n",
      "60/60 [==============================] - 0s - loss: 0.8057 - acc: 0.7833 - val_loss: 0.7642 - val_acc: 0.6875\n",
      "Epoch 24/40\n",
      "60/60 [==============================] - 0s - loss: 0.3329 - acc: 0.8333 - val_loss: 2.4859 - val_acc: 0.5000\n",
      "Epoch 25/40\n",
      "60/60 [==============================] - 0s - loss: 1.4448 - acc: 0.6333 - val_loss: 1.1264 - val_acc: 0.4375\n",
      "Epoch 26/40\n",
      "60/60 [==============================] - 0s - loss: 0.8636 - acc: 0.7333 - val_loss: 0.8196 - val_acc: 0.7500\n",
      "Epoch 27/40\n",
      "60/60 [==============================] - 0s - loss: 0.4143 - acc: 0.8833 - val_loss: 0.9477 - val_acc: 0.7500\n",
      "Epoch 28/40\n",
      "60/60 [==============================] - 0s - loss: 0.5504 - acc: 0.8167 - val_loss: 1.3653 - val_acc: 0.5000\n",
      "Epoch 29/40\n",
      "60/60 [==============================] - 0s - loss: 0.3171 - acc: 0.8500 - val_loss: 0.7363 - val_acc: 0.6875\n",
      "Epoch 30/40\n",
      "60/60 [==============================] - 0s - loss: 0.2863 - acc: 0.9167 - val_loss: 0.7787 - val_acc: 0.7500\n",
      "Epoch 31/40\n",
      "60/60 [==============================] - 0s - loss: 0.1230 - acc: 0.9833 - val_loss: 0.6541 - val_acc: 0.7500\n",
      "Epoch 32/40\n",
      "60/60 [==============================] - 0s - loss: 0.0931 - acc: 0.9500 - val_loss: 0.7539 - val_acc: 0.7500\n",
      "Epoch 33/40\n",
      "60/60 [==============================] - 0s - loss: 0.0690 - acc: 0.9833 - val_loss: 1.1516 - val_acc: 0.7500\n",
      "Epoch 34/40\n",
      "60/60 [==============================] - 0s - loss: 0.0971 - acc: 0.9833 - val_loss: 1.0499 - val_acc: 0.7500\n",
      "Epoch 35/40\n",
      "60/60 [==============================] - 0s - loss: 0.3602 - acc: 0.8833 - val_loss: 0.5337 - val_acc: 0.7500\n",
      "Epoch 36/40\n",
      "60/60 [==============================] - 0s - loss: 0.2076 - acc: 0.9500 - val_loss: 0.5897 - val_acc: 0.7500\n",
      "Epoch 37/40\n",
      "60/60 [==============================] - 0s - loss: 0.0443 - acc: 1.0000 - val_loss: 0.9537 - val_acc: 0.7500\n",
      "Epoch 38/40\n",
      "60/60 [==============================] - 0s - loss: 0.0973 - acc: 0.9667 - val_loss: 1.2091 - val_acc: 0.7500\n",
      "Epoch 39/40\n",
      "60/60 [==============================] - 0s - loss: 0.0795 - acc: 0.9500 - val_loss: 0.5239 - val_acc: 0.8125\n",
      "Epoch 40/40\n",
      "60/60 [==============================] - 0s - loss: 0.0384 - acc: 0.9833 - val_loss: 0.3959 - val_acc: 0.8125\n"
     ]
    }
   ],
   "source": [
    "# Train the model\n",
    "\n",
    "inputshape = (IMAGE_SIZE,IMAGE_SIZE,3)\n",
    "# 训练样本的组数（图像样本的人数）\n",
    "#nb_classes is calculated by load_data() \n",
    "model = model_build(inputshape, nb_classes)\n",
    "sgd = SGD(lr = 0.01, decay = 1e-6, momentum = 0.9, nesterov = True) \n",
    "model.compile(loss='categorical_crossentropy', optimizer=sgd, metrics=['accuracy'])   #完成实际的模型配置工作\n",
    "# 加载训练及验证样本，启动训练\n",
    "history = model.fit(train_images, train_labels, batch_size = 20, epochs =40,\n",
    "                           validation_data = (valid_images, valid_labels), shuffle = True)\n",
    "# 保存训练模型\n",
    "model_path = './shengping_face_model2.h5'\n",
    "save_model(model, model_path)\n"
   ]
  },
  {
   "cell_type": "code",
   "execution_count": 33,
   "metadata": {},
   "outputs": [
    {
     "name": "stdout",
     "output_type": "stream",
     "text": [
      "16/16 [==============================] - 0s\n",
      "acc: 81.25%\n",
      "16/16 [==============================] - 0s\n",
      "eva_result: [0.3958718180656433, 0.8125]\n"
     ]
    }
   ],
   "source": [
    "# 读出保存的模型并进行验证\n",
    "model_path = './shengping_face_model2.h5'\n",
    "model2 = loadmodel(model_path)\n",
    "evalu_model(model2, valid_images, valid_labels)\n",
    "eva_result = model2.evaluate(valid_images,valid_labels)\n",
    "print('eva_result:',eva_result)"
   ]
  },
  {
   "cell_type": "code",
   "execution_count": 34,
   "metadata": {},
   "outputs": [
    {
     "data": {
      "image/png": "[encoded data removed]",
      "text/plain": [
       "<Figure size 432x288 with 1 Axes>"
      ]
     },
     "metadata": {
      "needs_background": "light"
     },
     "output_type": "display_data"
    }
   ],
   "source": [
    "# summarize history for accuracy\n",
    "plt.plot(history.history['acc'])\n",
    "plt.plot(history.history['val_acc'])\n",
    "plt.title('model accuracy')\n",
    "plt.ylabel('accuracy')\n",
    "plt.xlabel('epoch')\n",
    "plt.legend(['train', 'test'], loc='upper left')\n",
    "plt.show()"
   ]
  },
  {
   "cell_type": "code",
   "execution_count": 35,
   "metadata": {},
   "outputs": [
    {
     "data": {
      "image/png": "[encoded data removed]",
      "text/plain": [
       "<Figure size 432x288 with 1 Axes>"
      ]
     },
     "metadata": {
      "needs_background": "light"
     },
     "output_type": "display_data"
    }
   ],
   "source": [
    "# summarize history for loss\n",
    "plt.plot(history.history['loss'])\n",
    "plt.plot(history.history['val_loss'])\n",
    "plt.title('model loss')\n",
    "plt.ylabel('loss')\n",
    "plt.xlabel('epoch')\n",
    "plt.legend(['train', 'test'], loc='upper left')\n",
    "plt.show()"
   ]
  },
  {
   "cell_type": "code",
   "execution_count": 36,
   "metadata": {},
   "outputs": [
    {
     "name": "stdout",
     "output_type": "stream",
     "text": [
      "predicts: [[5.6636189e-03 9.5115846e-01 4.3177962e-02 2.0053310e-08]]\n",
      "checklabel: [[0. 1. 0. 0.]]\n"
     ]
    }
   ],
   "source": [
    "#Predict one image\n",
    "checkImage = valid_images[14:15]\n",
    "checklabel = valid_labels[14:15]\n",
    "#print('checkImage:',checkImage)\n",
    "predicts = model.predict(checkImage)\n",
    "print(\"predicts:\",predicts)\n",
    "print(\"checklabel:\",checklabel)"
   ]
  },
  {
   "cell_type": "code",
   "execution_count": 37,
   "metadata": {},
   "outputs": [],
   "source": [
    "# This function predicts an image according to the index of the valid_images array\n",
    "\n",
    "\n",
    "def index_predict(n):\n",
    "    checkImage = valid_images[n:n+1]\n",
    "    checklabel = valid_labels[n:n+1]\n",
    "    #print('checkImage:',checkImage)\n",
    "    predicts = model.predict(checkImage)\n",
    "    print(\"predicts:\",predicts)\n",
    "\n",
    "    print(\"Actual binary, name: \",checklabel[0], output[int(np.argmax(checklabel[0]))])\n",
    "    for i in range(len(predicts)):\n",
    "        print(\"Predicted :- \",output[int(np.argmax(predicts[i]))])\n",
    "        #print('predict:',predict[i])"
   ]
  },
  {
   "cell_type": "code",
   "execution_count": 39,
   "metadata": {},
   "outputs": [
    {
     "name": "stdout",
     "output_type": "stream",
     "text": [
      "predicts: [[9.9967408e-01 3.1478811e-04 1.1156099e-05 8.1213047e-10]]\n",
      "Actual binary, name:  [1. 0. 0. 0.] caojun\n",
      "Predicted :-  caojun\n",
      "predicts: [[9.9998891e-01 6.5619579e-11 1.1069073e-05 6.3530112e-11]]\n",
      "Actual binary, name:  [1. 0. 0. 0.] caojun\n",
      "Predicted :-  caojun\n",
      "predicts: [[4.8477512e-05 8.1345142e-04 4.3341255e-01 5.6572551e-01]]\n",
      "Actual binary, name:  [0. 0. 0. 1.] mengziyi\n",
      "Predicted :-  mengziyi\n",
      "predicts: [[9.9848264e-01 9.1298636e-05 1.4259367e-03 1.2457194e-07]]\n",
      "Actual binary, name:  [1. 0. 0. 0.] caojun\n",
      "Predicted :-  caojun\n",
      "predicts: [[2.7529502e-03 1.6037500e-06 9.9720144e-01 4.3987780e-05]]\n",
      "Actual binary, name:  [0. 0. 1. 0.] gujiacheng\n",
      "Predicted :-  gujiacheng\n",
      "predicts: [[6.1711210e-01 6.2424760e-07 3.8280237e-01 8.4942614e-05]]\n",
      "Actual binary, name:  [1. 0. 0. 0.] caojun\n",
      "Predicted :-  caojun\n",
      "predicts: [[1.9979581e-02 3.1624138e-06 9.4664109e-01 3.3376191e-02]]\n",
      "Actual binary, name:  [0. 0. 1. 0.] gujiacheng\n",
      "Predicted :-  gujiacheng\n",
      "predicts: [[0.13610862 0.75189435 0.08585337 0.02614368]]\n",
      "Actual binary, name:  [1. 0. 0. 0.] caojun\n",
      "Predicted :-  chenshu\n",
      "predicts: [[5.72999954e-01 9.01785491e-09 4.26999956e-01 1.09434154e-07]]\n",
      "Actual binary, name:  [0. 0. 1. 0.] gujiacheng\n",
      "Predicted :-  caojun\n",
      "predicts: [[3.1312939e-07 6.7087176e-06 1.2406253e-03 9.9875236e-01]]\n",
      "Actual binary, name:  [0. 0. 0. 1.] mengziyi\n",
      "Predicted :-  mengziyi\n",
      "predicts: [[7.3029369e-04 1.9781282e-03 9.1817218e-04 9.9637336e-01]]\n",
      "Actual binary, name:  [0. 0. 0. 1.] mengziyi\n",
      "Predicted :-  mengziyi\n",
      "predicts: [[6.998260e-05 3.687106e-09 9.999300e-01 5.612244e-09]]\n",
      "Actual binary, name:  [0. 0. 1. 0.] gujiacheng\n",
      "Predicted :-  gujiacheng\n",
      "predicts: [[1.1206008e-01 3.7679598e-03 8.8381284e-01 3.5921391e-04]]\n",
      "Actual binary, name:  [1. 0. 0. 0.] caojun\n",
      "Predicted :-  gujiacheng\n",
      "predicts: [[5.6636189e-03 9.5115846e-01 4.3177962e-02 2.0053310e-08]]\n",
      "Actual binary, name:  [0. 1. 0. 0.] chenshu\n",
      "Predicted :-  chenshu\n",
      "predicts: [[5.6636189e-03 9.5115846e-01 4.3177962e-02 2.0053310e-08]]\n",
      "Actual binary, name:  [0. 1. 0. 0.] chenshu\n",
      "Predicted :-  chenshu\n",
      "predicts: [[7.9187147e-02 9.2033768e-01 4.5561904e-04 1.9582152e-05]]\n",
      "Actual binary, name:  [0. 1. 0. 0.] chenshu\n",
      "Predicted :-  chenshu\n"
     ]
    }
   ],
   "source": [
    "# Testing predictions and compare to actual label. We see some wrong predictions\n",
    "for i in range(len(valid_labels)):\n",
    "    index_predict(i)"
   ]
  },
  {
   "cell_type": "code",
   "execution_count": 40,
   "metadata": {},
   "outputs": [
    {
     "name": "stdout",
     "output_type": "stream",
     "text": [
      "i, valid_labels[i]: 0 [1. 0. 0. 0.]\n",
      "i, valid_labels[i]: 1 [1. 0. 0. 0.]\n",
      "i, valid_labels[i]: 2 [0. 0. 0. 1.]\n",
      "i, valid_labels[i]: 3 [1. 0. 0. 0.]\n",
      "i, valid_labels[i]: 4 [0. 0. 1. 0.]\n",
      "i, valid_labels[i]: 5 [1. 0. 0. 0.]\n",
      "i, valid_labels[i]: 6 [0. 0. 1. 0.]\n",
      "i, valid_labels[i]: 7 [1. 0. 0. 0.]\n",
      "i, valid_labels[i]: 8 [0. 0. 1. 0.]\n",
      "i, valid_labels[i]: 9 [0. 0. 0. 1.]\n",
      "i, valid_labels[i]: 10 [0. 0. 0. 1.]\n",
      "i, valid_labels[i]: 11 [0. 0. 1. 0.]\n",
      "i, valid_labels[i]: 12 [1. 0. 0. 0.]\n",
      "i, valid_labels[i]: 13 [0. 1. 0. 0.]\n",
      "i, valid_labels[i]: 14 [0. 1. 0. 0.]\n",
      "i, valid_labels[i]: 15 [0. 1. 0. 0.]\n"
     ]
    }
   ],
   "source": [
    "for i in range(len(valid_labels)):\n",
    "    print('i, valid_labels[i]:',i,valid_labels[i] )\n",
    "#plt.imshow(valid_images[20])"
   ]
  },
  {
   "cell_type": "code",
   "execution_count": null,
   "metadata": {},
   "outputs": [],
   "source": []
  }
 ],
 "metadata": {
  "kernelspec": {
   "display_name": "Python 3",
   "language": "python",
   "name": "python3"
  },
  "language_info": {
   "codemirror_mode": {
    "name": "ipython",
    "version": 3
   },
   "file_extension": ".py",
   "mimetype": "text/x-python",
   "name": "python",
   "nbconvert_exporter": "python",
   "pygments_lexer": "ipython3",
   "version": "3.6.9"
  }
 },
 "nbformat": 4,
 "nbformat_minor": 1
}
